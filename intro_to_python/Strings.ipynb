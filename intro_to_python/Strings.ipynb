{
 "cells": [
  {
   "cell_type": "markdown",
   "metadata": {},
   "source": [
    "## Intro to Python"
   ]
  },
  {
   "cell_type": "markdown",
   "metadata": {},
   "source": [
    "## Strings"
   ]
  },
  {
   "cell_type": "code",
   "execution_count": 27,
   "metadata": {},
   "outputs": [
    {
     "name": "stdout",
     "output_type": "stream",
     "text": [
      "String Data Type Lesson\n",
      "______________________________\n"
     ]
    }
   ],
   "source": [
    "import math\n",
    "print(\"String Data Type Lesson\")\n",
    "print(\"_\"*30)"
   ]
  },
  {
   "cell_type": "code",
   "execution_count": 4,
   "metadata": {},
   "outputs": [
    {
     "name": "stdout",
     "output_type": "stream",
     "text": [
      "My first string\n",
      "New \n",
      "Example of string concatenation: \n",
      "My first string New \n"
     ]
    }
   ],
   "source": [
    "a = 'My first string'\n",
    "b = 'New ' \n",
    "\n",
    "print(a)\n",
    "print(b)\n",
    "\n",
    "print(\"Example of string concatenation: \")\n",
    "a += \" \" + b\n",
    "\n",
    "print(a)"
   ]
  },
  {
   "cell_type": "markdown",
   "metadata": {},
   "source": [
    "### The join method"
   ]
  },
  {
   "cell_type": "code",
   "execution_count": 14,
   "metadata": {},
   "outputs": [
    {
     "name": "stdout",
     "output_type": "stream",
     "text": [
      "Join takes multiple strings and join them together!\n",
      "#444444;#432233;#566655\n",
      "\n",
      "\n",
      "You can join using the empty strings as well\n",
      "Hi something is up\n"
     ]
    }
   ],
   "source": [
    "print(\"Join takes multiple strings and join them together!\")\n",
    "color = ';'.join(['#444444', '#432233', '#566655'])\n",
    "print(color)\n",
    "\n",
    "print('\\n')\n",
    "print('You can join using the empty strings as well')\n",
    "x = ' '.join(['Hi', 'something', 'is up'])\n",
    "print(x)"
   ]
  },
  {
   "cell_type": "markdown",
   "metadata": {},
   "source": [
    "### The split method\n",
    "\n",
    "The resulting string is a list object."
   ]
  },
  {
   "cell_type": "code",
   "execution_count": 33,
   "metadata": {},
   "outputs": [
    {
     "name": "stdout",
     "output_type": "stream",
     "text": [
      "The split method splits strings based on a separator \n",
      "['#444444', '#432233', '#566655']\n",
      "Another example\n",
      "['Here is ', ' a string ', ' to split ', ' on dash']\n",
      "\n",
      "\n",
      "Split first name from the following list\n",
      "['rick', 'juan', 'alanso']\n"
     ]
    }
   ],
   "source": [
    "print(\"The split method splits strings based on a separator \")\n",
    "print(color.split(';'))\n",
    "\n",
    "print('Another example')\n",
    "s = \"Here is - a string - to split - on dash\"\n",
    "print(s.split('-'))\n",
    "\n",
    "print('\\n')\n",
    "print('Split first name from the following list')\n",
    "names = [\"Rick Sanchez\", \"Juan Feliz\", \"Alanso Duval\"]\n",
    "\n",
    "first_names = [name.lower().split()[0] for name in names]\n",
    "print(first_names)"
   ]
  },
  {
   "cell_type": "markdown",
   "metadata": {},
   "source": [
    "### The partition method"
   ]
  },
  {
   "cell_type": "code",
   "execution_count": 20,
   "metadata": {},
   "outputs": [
    {
     "name": "stdout",
     "output_type": "stream",
     "text": [
      "You can partition strings using the partition method\n",
      "('un', 'forget', 'able')\n",
      "\n",
      "\n",
      "tuple unpacking at work with the partition method\n",
      "London\n",
      ":\n",
      "Edinburg\n"
     ]
    }
   ],
   "source": [
    "print(\"You can partition strings using the partition method\")\n",
    "\n",
    "a = 'unforgetable'\n",
    "\n",
    "print(a.partition('forget'))\n",
    "\n",
    "print('\\n')\n",
    "\n",
    "print(\"tuple unpacking at work with the partition method\")\n",
    "\n",
    "departure, separator, arrival = \"London:Edinburg\".partition(':')\n",
    "print(departure)\n",
    "print(separator)\n",
    "print(arrival)"
   ]
  },
  {
   "cell_type": "markdown",
   "metadata": {},
   "source": [
    "## Format method"
   ]
  },
  {
   "cell_type": "code",
   "execution_count": 21,
   "metadata": {},
   "outputs": [
    {
     "data": {
      "text/plain": [
       "'My name is Juan and last name Montrel'"
      ]
     },
     "execution_count": 21,
     "metadata": {},
     "output_type": "execute_result"
    }
   ],
   "source": [
    "\"My name is {0} and last name {1}\".format(\"Juan\", \"Montrel\")"
   ]
  },
  {
   "cell_type": "markdown",
   "metadata": {},
   "source": [
    "You can ommit the numbers if the fields are used in order"
   ]
  },
  {
   "cell_type": "code",
   "execution_count": 22,
   "metadata": {},
   "outputs": [
    {
     "data": {
      "text/plain": [
       "'My name is Juan and middle name is Enmanuel'"
      ]
     },
     "execution_count": 22,
     "metadata": {},
     "output_type": "execute_result"
    }
   ],
   "source": [
    "'My name is {} and middle name is {}'.format('Juan', \"Enmanuel\")"
   ]
  },
  {
   "cell_type": "markdown",
   "metadata": {},
   "source": [
    " You can use field names as well to make your code more readable"
   ]
  },
  {
   "cell_type": "code",
   "execution_count": 23,
   "metadata": {},
   "outputs": [
    {
     "name": "stdout",
     "output_type": "stream",
     "text": [
      "You can use field names 60N, 40S\n"
     ]
    }
   ],
   "source": [
    "str_labels = \"You can use field names {latitude}, {longitude}\". format(latitude=\"60N\", longitude=\"40S\")\n",
    "print(str_labels)"
   ]
  },
  {
   "cell_type": "markdown",
   "metadata": {},
   "source": [
    "Accessing the element of a tuple inside the format method"
   ]
  },
  {
   "cell_type": "code",
   "execution_count": 24,
   "metadata": {},
   "outputs": [
    {
     "name": "stdout",
     "output_type": "stream",
     "text": [
      "Galactic posion x=62.3 y=23.1 z=82.3\n"
     ]
    }
   ],
   "source": [
    "pos = (62.3, 23.1, 82.3)\n",
    "p = \"Galactic posion x={pos[0]} y={pos[1]} z={pos[2]}\".format(pos=pos)\n",
    "print(p)"
   ]
  },
  {
   "cell_type": "markdown",
   "metadata": {},
   "source": [
    "3f tells the format method to only print 3 decimal points"
   ]
  },
  {
   "cell_type": "code",
   "execution_count": 30,
   "metadata": {},
   "outputs": [
    {
     "name": "stdout",
     "output_type": "stream",
     "text": [
      "Math constant pi=3.142, e=2.718\n"
     ]
    }
   ],
   "source": [
    "m = \"Math constant pi={m.pi:.3f}, e={m.e:.3f}\".format(m=math)\n",
    "print(m)"
   ]
  },
  {
   "cell_type": "code",
   "execution_count": null,
   "metadata": {},
   "outputs": [],
   "source": []
  }
 ],
 "metadata": {
  "kernelspec": {
   "display_name": "Python 3",
   "language": "python",
   "name": "python3"
  },
  "language_info": {
   "codemirror_mode": {
    "name": "ipython",
    "version": 3
   },
   "file_extension": ".py",
   "mimetype": "text/x-python",
   "name": "python",
   "nbconvert_exporter": "python",
   "pygments_lexer": "ipython3",
   "version": "3.6.8"
  }
 },
 "nbformat": 4,
 "nbformat_minor": 2
}
