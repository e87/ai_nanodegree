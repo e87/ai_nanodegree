{
 "cells": [
  {
   "cell_type": "code",
   "execution_count": 1,
   "metadata": {},
   "outputs": [
    {
     "name": "stdout",
     "output_type": "stream",
     "text": [
      "8.0\n"
     ]
    }
   ],
   "source": [
    "import math\n",
    "\n",
    "x = 2\n",
    "xp = math.pow(x,3)\n",
    "print(xp)"
   ]
  },
  {
   "cell_type": "raw",
   "metadata": {},
   "source": [
    "# Example of a Dictionary "
   ]
  },
  {
   "cell_type": "code",
   "execution_count": 2,
   "metadata": {},
   "outputs": [
    {
     "name": "stdout",
     "output_type": "stream",
     "text": [
      "{'Monday': 'Mon', 'Tuesday': 'Tue', 'Wednesday': 'Wed', 'Thursday': 'Thu', 'Friday': 'Fri', 'Saturday': 'Sat', 'Sunday': 'Sun'}\n"
     ]
    }
   ],
   "source": [
    "my_dic = dict()\n",
    "\n",
    "my_dic[\"Monday\"] = 'Mon'\n",
    "my_dic[\"Tuesday\"] = 'Tue'\n",
    "my_dic[\"Wednesday\"] = 'Wed'\n",
    "my_dic[\"Thursday\"] = 'Thu'\n",
    "my_dic[\"Friday\"] = 'Fri'\n",
    "my_dic[\"Saturday\"] = 'Sat'\n",
    "my_dic[\"Sunday\"] = 'Sun'\n",
    "\n",
    "print(my_dic)"
   ]
  },
  {
   "cell_type": "code",
   "execution_count": 3,
   "metadata": {},
   "outputs": [
    {
     "name": "stdout",
     "output_type": "stream",
     "text": [
      "Long-form Monday : Short=form Mon\n",
      "Long-form Tuesday : Short=form Tue\n",
      "Long-form Wednesday : Short=form Wed\n",
      "Long-form Thursday : Short=form Thu\n",
      "Long-form Friday : Short=form Fri\n",
      "Long-form Saturday : Short=form Sat\n",
      "Long-form Sunday : Short=form Sun\n"
     ]
    }
   ],
   "source": [
    "for item in my_dic:\n",
    "    print(\"Long-form {} : Short=form {}\".format(item, my_dic[item]))"
   ]
  },
  {
   "cell_type": "code",
   "execution_count": 4,
   "metadata": {},
   "outputs": [
    {
     "name": "stdout",
     "output_type": "stream",
     "text": [
      "7\n"
     ]
    }
   ],
   "source": [
    "print(len(my_dic))\n"
   ]
  },
  {
   "cell_type": "code",
   "execution_count": null,
   "metadata": {},
   "outputs": [],
   "source": []
  }
 ],
 "metadata": {
  "kernelspec": {
   "display_name": "Python 3",
   "language": "python",
   "name": "python3"
  },
  "language_info": {
   "codemirror_mode": {
    "name": "ipython",
    "version": 3
   },
   "file_extension": ".py",
   "mimetype": "text/x-python",
   "name": "python",
   "nbconvert_exporter": "python",
   "pygments_lexer": "ipython3",
   "version": "3.6.6"
  }
 },
 "nbformat": 4,
 "nbformat_minor": 2
}
